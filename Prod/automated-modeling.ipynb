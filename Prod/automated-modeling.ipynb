{
 "cells": [
  {
   "cell_type": "markdown",
   "metadata": {},
   "source": [
    "## Automated Modelling Schema\n",
    "\n",
    "This modelling schema includes full parametrization of the transformations, the objective is to achieve encapsulated gri-search viable pipeline  \n",
    "to improve optimization processes and efficiency. Pipeline model allows us to export parameters of the entire pipeline instead of just model weights.\n",
    "\n",
    "Includes:\n",
    "- Imputation strategies (ETL)\n",
    "- New columns processing (ETL)"
   ]
  },
  {
   "cell_type": "code",
   "execution_count": 2,
   "metadata": {},
   "outputs": [
    {
     "data": {
      "text/plain": [
       "False"
      ]
     },
     "execution_count": 2,
     "metadata": {},
     "output_type": "execute_result"
    }
   ],
   "source": [
    "import os\n",
    "import sys\n",
    "\n",
    "sys.dont_write_bytecode = True\n",
    "\n",
    "import numpy as np\n",
    "import pandas as pd\n",
    "\n",
    "from etl import *\n",
    "\n",
    "from sklearn.preprocessing import OneHotEncoder, StandardScaler\n",
    "from sklearn.preprocessing import PolynomialFeatures\n",
    "from sklearn.impute import SimpleImputer, KNNImputer\n",
    "from sklearn.pipeline import Pipeline\n",
    "from sklearn.compose import ColumnTransformer\n",
    "\n",
    "from sklearn.model_selection import train_test_split\n",
    "\n",
    "from dotenv import load_dotenv\n",
    "load_dotenv()"
   ]
  },
  {
   "cell_type": "markdown",
   "metadata": {},
   "source": [
    "loading raw data"
   ]
  },
  {
   "cell_type": "code",
   "execution_count": 3,
   "metadata": {},
   "outputs": [],
   "source": [
    "DATA_DIR = '../Development/gulas16/Data/'\n",
    "DATA_FILE = 'spotify_tracks_kaggle_weekly.csv'\n",
    "ARTIST_FILE = 'spotify_tracks_artist_details.csv'"
   ]
  },
  {
   "cell_type": "code",
   "execution_count": 4,
   "metadata": {},
   "outputs": [],
   "source": [
    "data_tracks = pd.read_csv(DATA_DIR + DATA_FILE)\n",
    "data_artist = pd.read_csv(DATA_DIR + ARTIST_FILE)"
   ]
  },
  {
   "cell_type": "markdown",
   "metadata": {},
   "source": [
    "Merge"
   ]
  },
  {
   "cell_type": "code",
   "execution_count": 5,
   "metadata": {},
   "outputs": [],
   "source": [
    "data = pd.merge(data_tracks, data_artist, on='track_id', how='left')"
   ]
  },
  {
   "cell_type": "markdown",
   "metadata": {},
   "source": [
    "Data splitting -> working with predefined $X_{train}$"
   ]
  },
  {
   "cell_type": "code",
   "execution_count": 6,
   "metadata": {},
   "outputs": [],
   "source": [
    "RANDOM_STATE = 21\n",
    "TEST_SIZE = 0.1"
   ]
  },
  {
   "cell_type": "code",
   "execution_count": 7,
   "metadata": {},
   "outputs": [],
   "source": [
    "X = data.drop('popularity', axis=1)\n",
    "y = data['popularity']"
   ]
  },
  {
   "cell_type": "code",
   "execution_count": 8,
   "metadata": {},
   "outputs": [],
   "source": [
    "X_train, X_test, y_train, y_test = train_test_split(\n",
    "    X, y, test_size=TEST_SIZE, random_state=RANDOM_STATE\n",
    ")"
   ]
  },
  {
   "cell_type": "markdown",
   "metadata": {},
   "source": [
    "Dropping columns defined in EDA"
   ]
  },
  {
   "cell_type": "code",
   "execution_count": 9,
   "metadata": {},
   "outputs": [],
   "source": [
    "drop_columns = ['track_id', 'artwork_url', 'track_url', 'track_name']"
   ]
  },
  {
   "cell_type": "code",
   "execution_count": 10,
   "metadata": {},
   "outputs": [],
   "source": [
    "X_train = X_train.drop(drop_columns, axis=1, errors='ignore')\n",
    "X_test = X_test.drop(drop_columns, axis=1, errors='ignore')"
   ]
  },
  {
   "cell_type": "markdown",
   "metadata": {},
   "source": [
    "transformation pipeline"
   ]
  },
  {
   "cell_type": "code",
   "execution_count": 26,
   "metadata": {},
   "outputs": [],
   "source": [
    "target = 'popularity'\n",
    "\n",
    "onehot_col = ['language']\n",
    "circle_of_fifths_col = ['key']\n",
    "artist_name_col = ['artist_name']\n",
    "album_name_col = ['album_name']\n",
    "genre_col = ['artist_genres']\n",
    "follower_col = ['artist_followers']\n",
    "artist_popularity_col = ['artist_popularities']\n",
    "\n",
    "\n",
    "numeric_columns = list(X_train.columns[X_train.dtypes != object].difference(['key', 'mode']))\n",
    "\n",
    "nan_columns = ['acousticness', 'danceability', 'energy', 'liveness', 'speechiness', 'tempo', 'valence']"
   ]
  },
  {
   "cell_type": "code",
   "execution_count": 34,
   "metadata": {},
   "outputs": [],
   "source": [
    "numeric_pipeline = Pipeline(steps=[\n",
    "    ('imputation', SimpleImputer()),\n",
    "    ('polynomials', PolynomialFeatures()),\n",
    "    ('scaling', StandardScaler())\n",
    "])\n",
    "\n",
    "artist_name_pipeline = Pipeline(steps=[\n",
    "    ('encoding', FrequencyEncoder()),\n",
    "    ('imputation', SimpleImputer()),\n",
    "    ('scaling', StandardScaler())\n",
    "])\n",
    "\n",
    "album_name_pipeline = Pipeline(steps=[\n",
    "    ('encoding', AlbumNameEncoder()),\n",
    "    ('scaling', StandardScaler())\n",
    "])\n",
    "\n",
    "circle_of_fifths_pipeline = Pipeline(steps=[\n",
    "    ('encoding', CircleOfFifthsEncoding()),\n",
    "    ('imputation', SimpleImputer())\n",
    "])\n",
    "\n",
    "genre_pipeline = Pipeline(steps=[\n",
    "    ('encoding', GenreEncoder()),\n",
    "    ('scaling', StandardScaler())\n",
    "])\n",
    "\n",
    "followers_pipeline = Pipeline(steps=[\n",
    "    ('encoding', FollowerCountEncoder()),\n",
    "    ('scaling', StandardScaler())\n",
    "])\n",
    "\n",
    "artist_popularity_pipeline = Pipeline(steps=[\n",
    "    ('encoding', ArtistPopularityEncoder()),\n",
    "    ('scaling', StandardScaler())\n",
    "])\n",
    "\n",
    "\n",
    "transformations = ColumnTransformer(transformers=[\n",
    "    \n",
    "    ('onehot_encoding', OneHotEncoder(sparse_output=False), onehot_col),\n",
    "    ('trigonometric_encoding', circle_of_fifths_pipeline, circle_of_fifths_col),\n",
    "    ('artist_encoding', artist_name_pipeline, artist_name_col),\n",
    "    ('album_encoding', album_name_pipeline, album_name_col),\n",
    "    ('follower_encoding', followers_pipeline, follower_col),\n",
    "    ('genres_encoding', genre_pipeline, genre_col),\n",
    "    ('artist_popularity_encoding', artist_popularity_pipeline, artist_popularity_col),\n",
    "    ('numeric_processing', numeric_pipeline, numeric_columns)\n",
    "\n",
    "], remainder='drop').set_output(transform='pandas')\n",
    "\n",
    "\n",
    "preprocessing = Pipeline(steps=[\n",
    "    \n",
    "    ('null_values', ConvertNull(columns=nan_columns)),\n",
    "    ('transformation', transformations)\n",
    "\n",
    "]).set_output(transform='pandas')"
   ]
  },
  {
   "cell_type": "code",
   "execution_count": 33,
   "metadata": {},
   "outputs": [
    {
     "data": {
      "text/plain": [
       "(56085, 135)"
      ]
     },
     "execution_count": 33,
     "metadata": {},
     "output_type": "execute_result"
    }
   ],
   "source": [
    "preprocessing.fit_transform(X_train).shape"
   ]
  },
  {
   "cell_type": "markdown",
   "metadata": {},
   "source": [
    "### Model configuration\n",
    "\n",
    "- select model\n",
    "- provide appropriate hyperparameter selection\n",
    "- autoamted optimization\n",
    "- export best fit"
   ]
  },
  {
   "cell_type": "code",
   "execution_count": 79,
   "metadata": {},
   "outputs": [],
   "source": [
    "model = None"
   ]
  },
  {
   "cell_type": "code",
   "execution_count": 80,
   "metadata": {},
   "outputs": [],
   "source": [
    "model_pipeline = Pipeline(steps=[\n",
    "    ('preprocessing', preprocessing),\n",
    "    ('model', model)\n",
    "])"
   ]
  },
  {
   "cell_type": "markdown",
   "metadata": {},
   "source": [
    "optimization - hyperparameter tuning"
   ]
  },
  {
   "cell_type": "code",
   "execution_count": 81,
   "metadata": {},
   "outputs": [],
   "source": [
    "from sklearn.model_selection import GridSearchCV"
   ]
  },
  {
   "cell_type": "code",
   "execution_count": 82,
   "metadata": {},
   "outputs": [],
   "source": [
    "param_grid = {}\n",
    "k_fold = 5"
   ]
  },
  {
   "cell_type": "code",
   "execution_count": 51,
   "metadata": {},
   "outputs": [],
   "source": [
    "results = GridSearchCV(model_pipeline, param_grid=param_grid, cv=k_fold)"
   ]
  }
 ],
 "metadata": {
  "kernelspec": {
   "display_name": "Python 3",
   "language": "python",
   "name": "python3"
  },
  "language_info": {
   "codemirror_mode": {
    "name": "ipython",
    "version": 3
   },
   "file_extension": ".py",
   "mimetype": "text/x-python",
   "name": "python",
   "nbconvert_exporter": "python",
   "pygments_lexer": "ipython3",
   "version": "3.11.1"
  }
 },
 "nbformat": 4,
 "nbformat_minor": 2
}
