{
 "cells": [
  {
   "cell_type": "markdown",
   "metadata": {},
   "source": [
    "## ETL Development\n",
    "\n",
    "This file serves as as draft for designing & development of project ETLs - transformations & preprocessing of data for modeling. The ETL should be part of runnable  \n",
    "pipeline for model encapsulation & enviroment isolation purposes (leak of statistics).\n",
    "\n",
    "Includes:\n",
    "- Transformation ETLs\n",
    "- Encoding ETLs\n",
    "\n",
    "ETLs must be part of pipeline to ensure statistical calculation only on train dataset."
   ]
  },
  {
   "cell_type": "code",
   "execution_count": 2,
   "metadata": {},
   "outputs": [],
   "source": [
    "import os\n",
    "import sys\n",
    "\n",
    "sys.dont_write_bytecode =True\n",
    "\n",
    "import numpy as np\n",
    "import pandas as pd"
   ]
  },
  {
   "cell_type": "markdown",
   "metadata": {},
   "source": [
    "loading data"
   ]
  },
  {
   "cell_type": "code",
   "execution_count": 3,
   "metadata": {},
   "outputs": [],
   "source": [
    "DATA_DIR = './Data/'\n",
    "FILE = 'spotify_tracks_kaggle_weekly.csv'"
   ]
  },
  {
   "cell_type": "code",
   "execution_count": 4,
   "metadata": {},
   "outputs": [],
   "source": [
    "data = pd.read_csv(DATA_DIR + FILE)"
   ]
  },
  {
   "cell_type": "markdown",
   "metadata": {},
   "source": [
    "columns to be dropped:\n",
    "\n",
    "- track_id : ID\n",
    "- artwork_url : url data - not intended for modelling purposes\n",
    "- track_url : url data - not intended for modelling purposes\n",
    "- track_name : user-friendly ID - not intended for modelling purposes (could be used in NLP analysis, however that will not be subject of this project)"
   ]
  },
  {
   "cell_type": "code",
   "execution_count": 12,
   "metadata": {},
   "outputs": [],
   "source": [
    "DROP_COLUMNS = ['track_id', 'artwork_url', 'track_url', 'track_name']"
   ]
  },
  {
   "cell_type": "code",
   "execution_count": 13,
   "metadata": {},
   "outputs": [],
   "source": [
    "data = data.drop(DROP_COLUMNS, axis=1, errors='ignore')"
   ]
  },
  {
   "cell_type": "code",
   "execution_count": 15,
   "metadata": {},
   "outputs": [
    {
     "data": {
      "text/html": [
       "<div>\n",
       "<style scoped>\n",
       "    .dataframe tbody tr th:only-of-type {\n",
       "        vertical-align: middle;\n",
       "    }\n",
       "\n",
       "    .dataframe tbody tr th {\n",
       "        vertical-align: top;\n",
       "    }\n",
       "\n",
       "    .dataframe thead th {\n",
       "        text-align: right;\n",
       "    }\n",
       "</style>\n",
       "<table border=\"1\" class=\"dataframe\">\n",
       "  <thead>\n",
       "    <tr style=\"text-align: right;\">\n",
       "      <th></th>\n",
       "      <th>artist_name</th>\n",
       "      <th>year</th>\n",
       "      <th>popularity</th>\n",
       "      <th>album_name</th>\n",
       "      <th>acousticness</th>\n",
       "      <th>danceability</th>\n",
       "      <th>duration_ms</th>\n",
       "      <th>energy</th>\n",
       "      <th>instrumentalness</th>\n",
       "      <th>key</th>\n",
       "      <th>liveness</th>\n",
       "      <th>loudness</th>\n",
       "      <th>mode</th>\n",
       "      <th>speechiness</th>\n",
       "      <th>tempo</th>\n",
       "      <th>time_signature</th>\n",
       "      <th>valence</th>\n",
       "      <th>language</th>\n",
       "    </tr>\n",
       "  </thead>\n",
       "  <tbody>\n",
       "    <tr>\n",
       "      <th>0</th>\n",
       "      <td>Anirudh Ravichander</td>\n",
       "      <td>2024</td>\n",
       "      <td>59</td>\n",
       "      <td>Leo Das Entry (From \"Leo\")</td>\n",
       "      <td>0.0241</td>\n",
       "      <td>0.753</td>\n",
       "      <td>97297.0</td>\n",
       "      <td>0.970</td>\n",
       "      <td>0.055300</td>\n",
       "      <td>8.0</td>\n",
       "      <td>0.1000</td>\n",
       "      <td>-5.994</td>\n",
       "      <td>0.0</td>\n",
       "      <td>0.1030</td>\n",
       "      <td>110.997</td>\n",
       "      <td>4.0</td>\n",
       "      <td>0.459</td>\n",
       "      <td>Tamil</td>\n",
       "    </tr>\n",
       "    <tr>\n",
       "      <th>1</th>\n",
       "      <td>Anirudh Ravichander, Pravin Mani, Vaishali Sri...</td>\n",
       "      <td>2024</td>\n",
       "      <td>47</td>\n",
       "      <td>AAO KILLELLE</td>\n",
       "      <td>0.0851</td>\n",
       "      <td>0.780</td>\n",
       "      <td>207369.0</td>\n",
       "      <td>0.793</td>\n",
       "      <td>0.000000</td>\n",
       "      <td>10.0</td>\n",
       "      <td>0.0951</td>\n",
       "      <td>-5.674</td>\n",
       "      <td>0.0</td>\n",
       "      <td>0.0952</td>\n",
       "      <td>164.995</td>\n",
       "      <td>3.0</td>\n",
       "      <td>0.821</td>\n",
       "      <td>Tamil</td>\n",
       "    </tr>\n",
       "    <tr>\n",
       "      <th>2</th>\n",
       "      <td>Anirudh Ravichander, Anivee, Alvin Bruno</td>\n",
       "      <td>2024</td>\n",
       "      <td>35</td>\n",
       "      <td>Mayakiriye Sirikiriye (Orchestral EDM)</td>\n",
       "      <td>0.0311</td>\n",
       "      <td>0.457</td>\n",
       "      <td>82551.0</td>\n",
       "      <td>0.491</td>\n",
       "      <td>0.000000</td>\n",
       "      <td>2.0</td>\n",
       "      <td>0.0831</td>\n",
       "      <td>-8.937</td>\n",
       "      <td>0.0</td>\n",
       "      <td>0.1530</td>\n",
       "      <td>169.996</td>\n",
       "      <td>4.0</td>\n",
       "      <td>0.598</td>\n",
       "      <td>Tamil</td>\n",
       "    </tr>\n",
       "    <tr>\n",
       "      <th>3</th>\n",
       "      <td>Anirudh Ravichander, Bharath Sankar, Kabilan, ...</td>\n",
       "      <td>2024</td>\n",
       "      <td>24</td>\n",
       "      <td>Scene Ah Scene Ah (Experimental EDM Mix)</td>\n",
       "      <td>0.2270</td>\n",
       "      <td>0.718</td>\n",
       "      <td>115831.0</td>\n",
       "      <td>0.630</td>\n",
       "      <td>0.000727</td>\n",
       "      <td>7.0</td>\n",
       "      <td>0.1240</td>\n",
       "      <td>-11.104</td>\n",
       "      <td>1.0</td>\n",
       "      <td>0.4450</td>\n",
       "      <td>169.996</td>\n",
       "      <td>4.0</td>\n",
       "      <td>0.362</td>\n",
       "      <td>Tamil</td>\n",
       "    </tr>\n",
       "    <tr>\n",
       "      <th>4</th>\n",
       "      <td>Anirudh Ravichander, Benny Dayal, Leon James, ...</td>\n",
       "      <td>2024</td>\n",
       "      <td>22</td>\n",
       "      <td>Gundellonaa X I Am a Disco Dancer (Mashup)</td>\n",
       "      <td>0.0153</td>\n",
       "      <td>0.689</td>\n",
       "      <td>129621.0</td>\n",
       "      <td>0.748</td>\n",
       "      <td>0.000001</td>\n",
       "      <td>7.0</td>\n",
       "      <td>0.3450</td>\n",
       "      <td>-9.637</td>\n",
       "      <td>1.0</td>\n",
       "      <td>0.1580</td>\n",
       "      <td>128.961</td>\n",
       "      <td>4.0</td>\n",
       "      <td>0.593</td>\n",
       "      <td>Tamil</td>\n",
       "    </tr>\n",
       "  </tbody>\n",
       "</table>\n",
       "</div>"
      ],
      "text/plain": [
       "                                         artist_name  year  popularity  \\\n",
       "0                                Anirudh Ravichander  2024          59   \n",
       "1  Anirudh Ravichander, Pravin Mani, Vaishali Sri...  2024          47   \n",
       "2           Anirudh Ravichander, Anivee, Alvin Bruno  2024          35   \n",
       "3  Anirudh Ravichander, Bharath Sankar, Kabilan, ...  2024          24   \n",
       "4  Anirudh Ravichander, Benny Dayal, Leon James, ...  2024          22   \n",
       "\n",
       "                                   album_name  acousticness  danceability  \\\n",
       "0                  Leo Das Entry (From \"Leo\")        0.0241         0.753   \n",
       "1                                AAO KILLELLE        0.0851         0.780   \n",
       "2      Mayakiriye Sirikiriye (Orchestral EDM)        0.0311         0.457   \n",
       "3    Scene Ah Scene Ah (Experimental EDM Mix)        0.2270         0.718   \n",
       "4  Gundellonaa X I Am a Disco Dancer (Mashup)        0.0153         0.689   \n",
       "\n",
       "   duration_ms  energy  instrumentalness   key  liveness  loudness  mode  \\\n",
       "0      97297.0   0.970          0.055300   8.0    0.1000    -5.994   0.0   \n",
       "1     207369.0   0.793          0.000000  10.0    0.0951    -5.674   0.0   \n",
       "2      82551.0   0.491          0.000000   2.0    0.0831    -8.937   0.0   \n",
       "3     115831.0   0.630          0.000727   7.0    0.1240   -11.104   1.0   \n",
       "4     129621.0   0.748          0.000001   7.0    0.3450    -9.637   1.0   \n",
       "\n",
       "   speechiness    tempo  time_signature  valence language  \n",
       "0       0.1030  110.997             4.0    0.459    Tamil  \n",
       "1       0.0952  164.995             3.0    0.821    Tamil  \n",
       "2       0.1530  169.996             4.0    0.598    Tamil  \n",
       "3       0.4450  169.996             4.0    0.362    Tamil  \n",
       "4       0.1580  128.961             4.0    0.593    Tamil  "
      ]
     },
     "execution_count": 15,
     "metadata": {},
     "output_type": "execute_result"
    }
   ],
   "source": [
    "data.head()"
   ]
  },
  {
   "cell_type": "markdown",
   "metadata": {},
   "source": [
    "### Encoding\n",
    "\n",
    "Due to the nature of the dataset multiple categorical (numerical as well) columns will require specific encoding method to convey information correctly.\n",
    "\n",
    "- Categorical data:\n",
    "    - artist_name\n",
    "    - album_name\n",
    "    - language\n",
    "\n",
    "\n",
    "- Numerical data:\n",
    "    - key\n",
    "    - mode"
   ]
  },
  {
   "cell_type": "code",
   "execution_count": null,
   "metadata": {},
   "outputs": [],
   "source": [
    " "
   ]
  }
 ],
 "metadata": {
  "kernelspec": {
   "display_name": "Python 3",
   "language": "python",
   "name": "python3"
  },
  "language_info": {
   "codemirror_mode": {
    "name": "ipython",
    "version": 3
   },
   "file_extension": ".py",
   "mimetype": "text/x-python",
   "name": "python",
   "nbconvert_exporter": "python",
   "pygments_lexer": "ipython3",
   "version": "3.11.1"
  }
 },
 "nbformat": 4,
 "nbformat_minor": 2
}
