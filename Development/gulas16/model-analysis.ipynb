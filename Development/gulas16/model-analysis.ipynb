{
 "cells": [
  {
   "cell_type": "markdown",
   "metadata": {},
   "source": [
    "## Model Analysis - Interpretation of results"
   ]
  },
  {
   "cell_type": "code",
   "execution_count": 280,
   "metadata": {},
   "outputs": [
    {
     "data": {
      "text/plain": [
       "False"
      ]
     },
     "execution_count": 280,
     "metadata": {},
     "output_type": "execute_result"
    }
   ],
   "source": [
    "import os\n",
    "import sys\n",
    "\n",
    "sys.dont_write_bytecode = True\n",
    "\n",
    "import numpy as np\n",
    "import pandas as pd\n",
    "\n",
    "from etl import *\n",
    "\n",
    "from sklearn.preprocessing import OneHotEncoder, StandardScaler\n",
    "from sklearn.preprocessing import PolynomialFeatures\n",
    "from sklearn.impute import SimpleImputer, KNNImputer\n",
    "from sklearn.pipeline import Pipeline\n",
    "from sklearn.compose import ColumnTransformer\n",
    "\n",
    "from sklearn.model_selection import train_test_split\n",
    "\n",
    "from dotenv import load_dotenv\n",
    "load_dotenv()"
   ]
  },
  {
   "cell_type": "markdown",
   "metadata": {},
   "source": [
    "loading raw data"
   ]
  },
  {
   "cell_type": "code",
   "execution_count": 281,
   "metadata": {},
   "outputs": [],
   "source": [
    "DATA_DIR = './Data/'\n",
    "DATA_FILE = 'spotify_tracks_kaggle_weekly.csv'\n",
    "ARTIST_FILE = 'spotify_tracks_artist_details.csv'"
   ]
  },
  {
   "cell_type": "code",
   "execution_count": 282,
   "metadata": {},
   "outputs": [],
   "source": [
    "data_tracks = pd.read_csv(DATA_DIR + DATA_FILE)\n",
    "data_artist = pd.read_csv(DATA_DIR + ARTIST_FILE)"
   ]
  },
  {
   "cell_type": "markdown",
   "metadata": {},
   "source": [
    "Merge"
   ]
  },
  {
   "cell_type": "code",
   "execution_count": 283,
   "metadata": {},
   "outputs": [],
   "source": [
    "data = pd.merge(data_tracks, data_artist, on='track_id', how='left')"
   ]
  },
  {
   "cell_type": "markdown",
   "metadata": {},
   "source": [
    "Data splitting -> working with predefined $X_{train}$"
   ]
  },
  {
   "cell_type": "code",
   "execution_count": 284,
   "metadata": {},
   "outputs": [],
   "source": [
    "RANDOM_STATE = 21\n",
    "TEST_SIZE = 0.1"
   ]
  },
  {
   "cell_type": "code",
   "execution_count": 285,
   "metadata": {},
   "outputs": [],
   "source": [
    "X = data.drop('popularity', axis=1)\n",
    "y = data['popularity']"
   ]
  },
  {
   "cell_type": "code",
   "execution_count": 286,
   "metadata": {},
   "outputs": [],
   "source": [
    "X_train, X_test, y_train, y_test = train_test_split(\n",
    "    X, y, test_size=TEST_SIZE, random_state=RANDOM_STATE\n",
    ")"
   ]
  },
  {
   "cell_type": "markdown",
   "metadata": {},
   "source": [
    "Dropping columns defined in EDA"
   ]
  },
  {
   "cell_type": "code",
   "execution_count": 287,
   "metadata": {},
   "outputs": [],
   "source": [
    "drop_columns = ['track_id', 'artwork_url', 'track_url', 'track_name']"
   ]
  },
  {
   "cell_type": "code",
   "execution_count": 288,
   "metadata": {},
   "outputs": [],
   "source": [
    "X_train = X_train.drop(drop_columns, axis=1, errors='ignore')\n",
    "X_test = X_test.drop(drop_columns, axis=1, errors='ignore')"
   ]
  },
  {
   "cell_type": "markdown",
   "metadata": {},
   "source": [
    "transformation pipeline"
   ]
  },
  {
   "cell_type": "code",
   "execution_count": 289,
   "metadata": {},
   "outputs": [],
   "source": [
    "target = 'popularity'\n",
    "\n",
    "onehot_col = ['language']\n",
    "circle_of_fifths_col = ['key']\n",
    "artist_name_col = ['artist_name']\n",
    "album_name_col = ['album_name']\n",
    "genre_col = ['artist_genres']\n",
    "follower_col = ['artist_followers']\n",
    "artist_popularity_col = ['artist_popularities']\n",
    "\n",
    "\n",
    "numeric_columns = list(X_train.columns[X_train.dtypes != object].difference(['key', 'mode']))\n",
    "\n",
    "nan_columns = ['acousticness', 'danceability', 'energy', 'liveness', 'speechiness', 'tempo', 'valence']"
   ]
  },
  {
   "cell_type": "code",
   "execution_count": 290,
   "metadata": {},
   "outputs": [],
   "source": [
    "numeric_pipeline = Pipeline(steps=[\n",
    "    ('imputation', SimpleImputer()),\n",
    "    ('polynomials', PolynomialFeatures()),\n",
    "    ('scaling', StandardScaler())\n",
    "])\n",
    "\n",
    "artist_name_pipeline = Pipeline(steps=[\n",
    "    ('encoding', FrequencyEncoder()),\n",
    "    ('imputation', SimpleImputer()),\n",
    "    ('scaling', StandardScaler())\n",
    "])\n",
    "\n",
    "album_name_pipeline = Pipeline(steps=[\n",
    "    ('encoding', AlbumNameEncoder()),\n",
    "    ('scaling', StandardScaler())\n",
    "])\n",
    "\n",
    "circle_of_fifths_pipeline = Pipeline(steps=[\n",
    "    ('encoding', CircleOfFifthsEncoding()),\n",
    "    ('imputation', SimpleImputer())\n",
    "])\n",
    "\n",
    "genre_pipeline = Pipeline(steps=[\n",
    "    ('encoding', GenreEncoder()),\n",
    "    ('scaling', StandardScaler())\n",
    "])\n",
    "\n",
    "followers_pipeline = Pipeline(steps=[\n",
    "    ('encoding', FollowerCountEncoder()),\n",
    "    ('scaling', StandardScaler())\n",
    "])\n",
    "\n",
    "artist_popularity_pipeline = Pipeline(steps=[\n",
    "    ('encoding', ArtistPopularityEncoder()),\n",
    "    ('scaling', StandardScaler())\n",
    "])\n",
    "\n",
    "\n",
    "transformations = ColumnTransformer(transformers=[\n",
    "    \n",
    "    ('onehot_encoding', OneHotEncoder(sparse_output=False), onehot_col),\n",
    "    ('trigonometric_encoding', circle_of_fifths_pipeline, circle_of_fifths_col),\n",
    "    ('artist_encoding', artist_name_pipeline, artist_name_col),\n",
    "    ('album_encoding', album_name_pipeline, album_name_col),\n",
    "    ('follower_encoding', followers_pipeline, follower_col),\n",
    "    ('genres_encoding', genre_pipeline, genre_col),\n",
    "    ('artist_popularity_encoding', artist_popularity_pipeline, artist_popularity_col),\n",
    "    ('numeric_processing', numeric_pipeline, numeric_columns)\n",
    "\n",
    "], remainder='drop').set_output(transform='pandas')\n",
    "\n",
    "\n",
    "preprocessing = Pipeline(steps=[\n",
    "    \n",
    "    ('null_values', ConvertNull(columns=nan_columns)),\n",
    "    ('transformation', transformations)\n",
    "\n",
    "]).set_output(transform='pandas')"
   ]
  },
  {
   "cell_type": "markdown",
   "metadata": {},
   "source": [
    "benchmark pipeline for linear models"
   ]
  },
  {
   "cell_type": "code",
   "execution_count": 155,
   "metadata": {},
   "outputs": [],
   "source": [
    "DATA_DIR = './Data/'\n",
    "DATA_FILE = 'spotify_tracks_kaggle_weekly.csv'\n",
    "ARTIST_FILE = 'spotify_tracks_artist_details.csv'\n",
    "\n",
    "RANDOM_STATE = 21\n",
    "TEST_SIZE = 0.1\n",
    "\n",
    "data_tracks = pd.read_csv(DATA_DIR + DATA_FILE)\n",
    "data_artist = pd.read_csv(DATA_DIR + ARTIST_FILE)\n",
    "\n",
    "bm_data = pd.merge(data_tracks, data_artist, on='track_id', how='left').dropna()\n",
    "\n",
    "X_bm = bm_data.drop('popularity', axis=1)\n",
    "y_bm = bm_data['popularity']\n",
    "\n",
    "X_train, X_test, y_train, y_test = train_test_split(\n",
    "    X_bm, y_bm, test_size=TEST_SIZE, random_state=RANDOM_STATE\n",
    ")\n",
    "\n",
    "drop_columns = ['track_id', 'artwork_url', 'track_url', 'track_name']\n",
    "\n",
    "X_train = X_train.drop(drop_columns, axis=1, errors='ignore')\n",
    "X_test = X_test.drop(drop_columns, axis=1, errors='ignore')\n",
    "\n",
    "drop_columns = ['track_id', 'artwork_url', 'track_url',\n",
    "                 'track_name', 'album_name', 'artist_name',\n",
    "                   'language', 'track_name_x', 'track_name_y',\n",
    "                   'artist_ids', 'artist_names', 'artist_popularities', 'artist_genres', 'artist_followers']\n",
    "\n",
    "X_train = X_train.drop(drop_columns, axis=1, errors='ignore')\n",
    "X_test = X_test.drop(drop_columns, axis=1, errors='ignore')"
   ]
  },
  {
   "cell_type": "markdown",
   "metadata": {},
   "source": [
    "#### Loading exported models"
   ]
  },
  {
   "cell_type": "code",
   "execution_count": 121,
   "metadata": {},
   "outputs": [],
   "source": [
    "import joblib\n",
    "import matplotlib.pyplot as plt\n",
    "import seaborn as sns\n",
    "\n",
    "sns.set_theme()"
   ]
  },
  {
   "cell_type": "code",
   "execution_count": 122,
   "metadata": {},
   "outputs": [],
   "source": [
    "from sklearn.metrics import mean_squared_error"
   ]
  },
  {
   "cell_type": "code",
   "execution_count": 108,
   "metadata": {},
   "outputs": [],
   "source": [
    "DIR = '../../Prod/Models/'\n",
    "\n",
    "LINEAR = 'Linear/'\n",
    "ENSEMBLE = 'Ensemble/'"
   ]
  },
  {
   "cell_type": "markdown",
   "metadata": {},
   "source": [
    "#### Comparison of linear models"
   ]
  },
  {
   "cell_type": "code",
   "execution_count": 109,
   "metadata": {},
   "outputs": [],
   "source": [
    "benchmark_cols = pd.read_csv(DIR + LINEAR + 'linear-benchmark-columns.csv')['0'].values"
   ]
  },
  {
   "cell_type": "code",
   "execution_count": 114,
   "metadata": {},
   "outputs": [],
   "source": [
    "bm_lr = joblib.load(DIR + LINEAR + 'linear-benchmark-lr-1.joblib')\n",
    "bm_ridge = joblib.load(DIR + LINEAR + 'linear-benchmark-ridge-1.joblib')\n",
    "bm_lasso = joblib.load(DIR + LINEAR + 'linear-benchmark-lasso-1.joblib')\n",
    "\n",
    "opt_lr = joblib.load(DIR + LINEAR + 'linear-optimized-lr.joblib')\n",
    "opt_ridge = joblib.load(DIR + LINEAR + 'linear-optimized-ridge.joblib')\n",
    "opt_lasso = joblib.load(DIR + LINEAR + 'linear-optimized-lasso.joblib')"
   ]
  },
  {
   "cell_type": "code",
   "execution_count": 222,
   "metadata": {},
   "outputs": [],
   "source": [
    "bm_data = {\n",
    "    'Linear_regression' : [bm_lr.score(X_train, y_train), bm_lr.score(X_test, y_test), mean_squared_error(y_test, bm_lr.predict(X_test))],\n",
    "    'Ridge' : [bm_ridge.score(X_train, y_train), bm_ridge.score(X_test, y_test), mean_squared_error(y_test, bm_ridge.predict(X_test))],\n",
    "    'Lasso' : [bm_ridge.score(X_train, y_train), bm_lasso.score(X_test, y_test), mean_squared_error(y_test, bm_lasso.predict(X_test))]\n",
    "}"
   ]
  },
  {
   "cell_type": "code",
   "execution_count": 228,
   "metadata": {},
   "outputs": [],
   "source": [
    "bm_data_df = pd.DataFrame(bm_data).T.rename(columns={0: 'Train R2', 1 : 'Test R2', 2 : 'MSE'})\n",
    "#bm_data_df.to_csv(DIR + LINEAR + 'benchmark-results.csv')"
   ]
  },
  {
   "cell_type": "code",
   "execution_count": 229,
   "metadata": {},
   "outputs": [
    {
     "data": {
      "text/html": [
       "<div>\n",
       "<style scoped>\n",
       "    .dataframe tbody tr th:only-of-type {\n",
       "        vertical-align: middle;\n",
       "    }\n",
       "\n",
       "    .dataframe tbody tr th {\n",
       "        vertical-align: top;\n",
       "    }\n",
       "\n",
       "    .dataframe thead th {\n",
       "        text-align: right;\n",
       "    }\n",
       "</style>\n",
       "<table border=\"1\" class=\"dataframe\">\n",
       "  <thead>\n",
       "    <tr style=\"text-align: right;\">\n",
       "      <th></th>\n",
       "      <th>Train R2</th>\n",
       "      <th>Test R2</th>\n",
       "      <th>MSE</th>\n",
       "    </tr>\n",
       "  </thead>\n",
       "  <tbody>\n",
       "    <tr>\n",
       "      <th>Linear_regression</th>\n",
       "      <td>0.116096</td>\n",
       "      <td>0.102582</td>\n",
       "      <td>308.376293</td>\n",
       "    </tr>\n",
       "    <tr>\n",
       "      <th>Ridge</th>\n",
       "      <td>0.116096</td>\n",
       "      <td>0.102586</td>\n",
       "      <td>308.374750</td>\n",
       "    </tr>\n",
       "    <tr>\n",
       "      <th>Lasso</th>\n",
       "      <td>0.116096</td>\n",
       "      <td>0.074847</td>\n",
       "      <td>317.906593</td>\n",
       "    </tr>\n",
       "  </tbody>\n",
       "</table>\n",
       "</div>"
      ],
      "text/plain": [
       "                   Train R2   Test R2         MSE\n",
       "Linear_regression  0.116096  0.102582  308.376293\n",
       "Ridge              0.116096  0.102586  308.374750\n",
       "Lasso              0.116096  0.074847  317.906593"
      ]
     },
     "execution_count": 229,
     "metadata": {},
     "output_type": "execute_result"
    }
   ],
   "source": [
    "bm_data_df"
   ]
  },
  {
   "cell_type": "code",
   "execution_count": 233,
   "metadata": {},
   "outputs": [],
   "source": [
    "opt_data = pd.read_csv(DIR + LINEAR + 'optimization-results.csv').set_index('Unnamed: 0')"
   ]
  },
  {
   "cell_type": "code",
   "execution_count": 234,
   "metadata": {},
   "outputs": [
    {
     "data": {
      "text/html": [
       "<div>\n",
       "<style scoped>\n",
       "    .dataframe tbody tr th:only-of-type {\n",
       "        vertical-align: middle;\n",
       "    }\n",
       "\n",
       "    .dataframe tbody tr th {\n",
       "        vertical-align: top;\n",
       "    }\n",
       "\n",
       "    .dataframe thead th {\n",
       "        text-align: right;\n",
       "    }\n",
       "</style>\n",
       "<table border=\"1\" class=\"dataframe\">\n",
       "  <thead>\n",
       "    <tr style=\"text-align: right;\">\n",
       "      <th></th>\n",
       "      <th>Train R2</th>\n",
       "      <th>Test R2</th>\n",
       "      <th>MSE</th>\n",
       "    </tr>\n",
       "    <tr>\n",
       "      <th>Unnamed: 0</th>\n",
       "      <th></th>\n",
       "      <th></th>\n",
       "      <th></th>\n",
       "    </tr>\n",
       "  </thead>\n",
       "  <tbody>\n",
       "    <tr>\n",
       "      <th>Linear_regression</th>\n",
       "      <td>0.286123</td>\n",
       "      <td>0.261781</td>\n",
       "      <td>253.671275</td>\n",
       "    </tr>\n",
       "    <tr>\n",
       "      <th>Ridge</th>\n",
       "      <td>0.286084</td>\n",
       "      <td>0.261508</td>\n",
       "      <td>253.764954</td>\n",
       "    </tr>\n",
       "    <tr>\n",
       "      <th>Lasso</th>\n",
       "      <td>0.263422</td>\n",
       "      <td>0.238479</td>\n",
       "      <td>261.678298</td>\n",
       "    </tr>\n",
       "  </tbody>\n",
       "</table>\n",
       "</div>"
      ],
      "text/plain": [
       "                   Train R2   Test R2         MSE\n",
       "Unnamed: 0                                       \n",
       "Linear_regression  0.286123  0.261781  253.671275\n",
       "Ridge              0.286084  0.261508  253.764954\n",
       "Lasso              0.263422  0.238479  261.678298"
      ]
     },
     "execution_count": 234,
     "metadata": {},
     "output_type": "execute_result"
    }
   ],
   "source": [
    "opt_data"
   ]
  },
  {
   "cell_type": "code",
   "execution_count": 235,
   "metadata": {},
   "outputs": [],
   "source": [
    "bm_data_df['type'] = 'benchmark'\n",
    "opt_data['type'] = 'optimized'\n",
    "\n",
    "combined = pd.concat([bm_data_df, opt_data]).reset_index().rename(columns={'index' : 'model'})\n",
    "\n"
   ]
  },
  {
   "cell_type": "code",
   "execution_count": 236,
   "metadata": {},
   "outputs": [
    {
     "data": {
      "text/html": [
       "<div>\n",
       "<style scoped>\n",
       "    .dataframe tbody tr th:only-of-type {\n",
       "        vertical-align: middle;\n",
       "    }\n",
       "\n",
       "    .dataframe tbody tr th {\n",
       "        vertical-align: top;\n",
       "    }\n",
       "\n",
       "    .dataframe thead th {\n",
       "        text-align: right;\n",
       "    }\n",
       "</style>\n",
       "<table border=\"1\" class=\"dataframe\">\n",
       "  <thead>\n",
       "    <tr style=\"text-align: right;\">\n",
       "      <th></th>\n",
       "      <th>model</th>\n",
       "      <th>Train R2</th>\n",
       "      <th>Test R2</th>\n",
       "      <th>MSE</th>\n",
       "      <th>type</th>\n",
       "    </tr>\n",
       "  </thead>\n",
       "  <tbody>\n",
       "    <tr>\n",
       "      <th>0</th>\n",
       "      <td>Linear_regression</td>\n",
       "      <td>0.116096</td>\n",
       "      <td>0.102582</td>\n",
       "      <td>308.376293</td>\n",
       "      <td>benchmark</td>\n",
       "    </tr>\n",
       "    <tr>\n",
       "      <th>1</th>\n",
       "      <td>Ridge</td>\n",
       "      <td>0.116096</td>\n",
       "      <td>0.102586</td>\n",
       "      <td>308.374750</td>\n",
       "      <td>benchmark</td>\n",
       "    </tr>\n",
       "    <tr>\n",
       "      <th>2</th>\n",
       "      <td>Lasso</td>\n",
       "      <td>0.116096</td>\n",
       "      <td>0.074847</td>\n",
       "      <td>317.906593</td>\n",
       "      <td>benchmark</td>\n",
       "    </tr>\n",
       "    <tr>\n",
       "      <th>3</th>\n",
       "      <td>Linear_regression</td>\n",
       "      <td>0.286123</td>\n",
       "      <td>0.261781</td>\n",
       "      <td>253.671275</td>\n",
       "      <td>optimized</td>\n",
       "    </tr>\n",
       "    <tr>\n",
       "      <th>4</th>\n",
       "      <td>Ridge</td>\n",
       "      <td>0.286084</td>\n",
       "      <td>0.261508</td>\n",
       "      <td>253.764954</td>\n",
       "      <td>optimized</td>\n",
       "    </tr>\n",
       "    <tr>\n",
       "      <th>5</th>\n",
       "      <td>Lasso</td>\n",
       "      <td>0.263422</td>\n",
       "      <td>0.238479</td>\n",
       "      <td>261.678298</td>\n",
       "      <td>optimized</td>\n",
       "    </tr>\n",
       "  </tbody>\n",
       "</table>\n",
       "</div>"
      ],
      "text/plain": [
       "               model  Train R2   Test R2         MSE       type\n",
       "0  Linear_regression  0.116096  0.102582  308.376293  benchmark\n",
       "1              Ridge  0.116096  0.102586  308.374750  benchmark\n",
       "2              Lasso  0.116096  0.074847  317.906593  benchmark\n",
       "3  Linear_regression  0.286123  0.261781  253.671275  optimized\n",
       "4              Ridge  0.286084  0.261508  253.764954  optimized\n",
       "5              Lasso  0.263422  0.238479  261.678298  optimized"
      ]
     },
     "execution_count": 236,
     "metadata": {},
     "output_type": "execute_result"
    }
   ],
   "source": [
    "combined"
   ]
  },
  {
   "cell_type": "markdown",
   "metadata": {},
   "source": [
    "result plotting"
   ]
  },
  {
   "cell_type": "code",
   "execution_count": 278,
   "metadata": {},
   "outputs": [
    {
     "data": {
      "image/png": "[encoded data removed]",
      "text/plain": [
       "<Figure size 1800x600 with 2 Axes>"
      ]
     },
     "metadata": {},
     "output_type": "display_data"
    }
   ],
   "source": [
    "fig, ax = plt.subplots(1, 2, figsize=(18, 6))\n",
    "\n",
    "sns.barplot(data=combined, x='model', y='Train R2', hue='type', ax=ax[0])\n",
    "sns.barplot(data=combined, x='model', y='Test R2', hue='type')\n",
    "\n",
    "fig.suptitle(\"Linear models evaluation summary\")\n",
    "\n",
    "fig.savefig('../../Prod/Images/linear-models-r2-summary-2.png', bbox_inches='tight')"
   ]
  },
  {
   "cell_type": "markdown",
   "metadata": {},
   "source": [
    "ridge benchmark vs ridge optimized parameter weights"
   ]
  },
  {
   "cell_type": "code",
   "execution_count": null,
   "metadata": {},
   "outputs": [],
   "source": []
  },
  {
   "cell_type": "code",
   "execution_count": 309,
   "metadata": {},
   "outputs": [],
   "source": [
    "bm_attr = pd.DataFrame((zip(benchmark_cols, bm_ridge.coef_)))\n",
    "opt_attr = pd.DataFrame(zip(opt_ridge.named_steps['preprocessing'].transform(X_train).columns, opt_ridge.named_steps['model'].coef_)).sort_values(by=1, ascending=False)\n",
    "\n",
    "opt_attr[0] = opt_attr[0].str.split('__').str[1]"
   ]
  },
  {
   "cell_type": "code",
   "execution_count": null,
   "metadata": {},
   "outputs": [],
   "source": [
    "fig, ax = plt.subplots(1, 2, figsize=(21, 6), gridspec_kw={'wspace' : 0.5})\n",
    "\n",
    "ax[0].set_title('Ridge - benchmark weights')\n",
    "ax[1].set_title('Ridge - optimized weights (most signifficant)')\n",
    "\n",
    "sns.barplot(bm_attr.sort_values(by=1, ascending=False), x=1, y=0, color='tab:blue', ax=ax[0])\n",
    "sns.barplot(data=pd.concat([opt_attr.head(10), opt_attr.tail(10)]), x=1, y=0, color='tab:red', ax=ax[1])\n",
    "\n",
    "fig.suptitle('Comparison of attribute weights in benchmark & optimal Ridge models')\n",
    "\n",
    "fig.savefig('../../Prod/Images/linear-models-attribute-weights-2.png', bbox_inches='tight')"
   ]
  },
  {
   "cell_type": "code",
   "execution_count": null,
   "metadata": {},
   "outputs": [],
   "source": []
  },
  {
   "cell_type": "code",
   "execution_count": null,
   "metadata": {},
   "outputs": [],
   "source": []
  }
 ],
 "metadata": {
  "kernelspec": {
   "display_name": "Python 3",
   "language": "python",
   "name": "python3"
  },
  "language_info": {
   "codemirror_mode": {
    "name": "ipython",
    "version": 3
   },
   "file_extension": ".py",
   "mimetype": "text/x-python",
   "name": "python",
   "nbconvert_exporter": "python",
   "pygments_lexer": "ipython3",
   "version": "3.11.1"
  }
 },
 "nbformat": 4,
 "nbformat_minor": 2
}
