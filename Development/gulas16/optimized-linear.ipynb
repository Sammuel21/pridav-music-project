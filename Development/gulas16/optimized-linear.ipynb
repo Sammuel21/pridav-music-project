{
 "cells": [
  {
   "cell_type": "markdown",
   "metadata": {},
   "source": [
    "## Optimized modelling - linear models\n",
    "\n",
    "The objective is to find the best avaible fit across the entire pipeline."
   ]
  },
  {
   "cell_type": "code",
   "execution_count": 57,
   "metadata": {},
   "outputs": [
    {
     "data": {
      "text/plain": [
       "False"
      ]
     },
     "execution_count": 57,
     "metadata": {},
     "output_type": "execute_result"
    }
   ],
   "source": [
    "import os\n",
    "import sys\n",
    "\n",
    "sys.dont_write_bytecode = True\n",
    "\n",
    "import numpy as np\n",
    "import pandas as pd\n",
    "\n",
    "from etl import *\n",
    "\n",
    "from sklearn.linear_model import LinearRegression, Ridge, Lasso\n",
    "from sklearn.model_selection import GridSearchCV\n",
    "from sklearn.model_selection import train_test_split\n",
    "from sklearn.metrics import mean_squared_error, root_mean_squared_error\n",
    "\n",
    "from dotenv import load_dotenv\n",
    "load_dotenv()"
   ]
  },
  {
   "cell_type": "code",
   "execution_count": 58,
   "metadata": {},
   "outputs": [],
   "source": [
    "DATA_DIR = './Data/'\n",
    "DATA_FILE = 'spotify_tracks_kaggle_weekly.csv'\n",
    "ARTIST_FILE = 'spotify_tracks_artist_details.csv'\n",
    "\n",
    "RANDOM_STATE = 21\n",
    "TEST_SIZE = 0.1"
   ]
  },
  {
   "cell_type": "code",
   "execution_count": 59,
   "metadata": {},
   "outputs": [],
   "source": [
    "data_tracks = pd.read_csv(DATA_DIR + DATA_FILE)\n",
    "data_artist = pd.read_csv(DATA_DIR + ARTIST_FILE)\n",
    "\n",
    "data = pd.merge(data_tracks, data_artist, on='track_id', how='left')"
   ]
  },
  {
   "cell_type": "code",
   "execution_count": 60,
   "metadata": {},
   "outputs": [],
   "source": [
    "X = data.drop('popularity', axis=1)\n",
    "y = data['popularity']\n",
    "\n",
    "X_train, X_test, y_train, y_test = train_test_split(\n",
    "    X, y, test_size=TEST_SIZE, random_state=RANDOM_STATE\n",
    ")"
   ]
  },
  {
   "cell_type": "code",
   "execution_count": 61,
   "metadata": {},
   "outputs": [],
   "source": [
    "drop_columns = ['track_id', 'artwork_url', 'track_url', 'track_name']\n",
    "\n",
    "X_train = X_train.drop(drop_columns, axis=1, errors='ignore')\n",
    "X_test = X_test.drop(drop_columns, axis=1, errors='ignore')"
   ]
  },
  {
   "cell_type": "code",
   "execution_count": 62,
   "metadata": {},
   "outputs": [],
   "source": [
    "target = 'popularity'\n",
    "\n",
    "onehot_col = ['language']\n",
    "circle_of_fifths_col = ['key']\n",
    "artist_name_col = ['artist_name']\n",
    "album_name_col = ['album_name']\n",
    "\n",
    "numeric_columns = list(X_train.columns[X_train.dtypes != object].difference(['key', 'mode']))\n",
    "\n",
    "nan_columns = ['acousticness', 'danceability', 'energy', 'liveness', 'speechiness', 'tempo', 'valence']"
   ]
  },
  {
   "cell_type": "code",
   "execution_count": 63,
   "metadata": {},
   "outputs": [],
   "source": [
    "numeric_pipeline = Pipeline(steps=[\n",
    "    ('imputation', SimpleImputer()),\n",
    "    ('polynomials', PolynomialFeatures()),\n",
    "    ('scaling', StandardScaler())\n",
    "])\n",
    "\n",
    "artist_name_pipeline = Pipeline(steps=[\n",
    "    ('encoding', FrequencyEncoder()),\n",
    "    ('imputation', SimpleImputer()),\n",
    "    ('scaling', StandardScaler())\n",
    "])\n",
    "\n",
    "album_name_pipeline = Pipeline(steps=[\n",
    "    ('encoding', AlbumNameEncoder()),\n",
    "    ('imputation', SimpleImputer())\n",
    "])\n",
    "\n",
    "circle_of_fifths_pipeline = Pipeline(steps=[\n",
    "    ('encoding', CircleOfFifthsEncoding()),\n",
    "    ('imputation', SimpleImputer())\n",
    "])\n",
    "\n",
    "\n",
    "transformations = ColumnTransformer(transformers=[\n",
    "    \n",
    "    ('onehot_encoding', OneHotEncoder(sparse_output=False), onehot_col),\n",
    "    ('trigonometric_encoding', circle_of_fifths_pipeline, circle_of_fifths_col),\n",
    "    ('artist_encoding', artist_name_pipeline, artist_name_col),\n",
    "    ('album_encoding', album_name_pipeline, album_name_col),\n",
    "    ('numeric_processing', numeric_pipeline, numeric_columns)\n",
    "\n",
    "], remainder='drop').set_output(transform='pandas')\n",
    "\n",
    "\n",
    "preprocessing = Pipeline(steps=[\n",
    "    \n",
    "    ('null_values', ConvertNull(columns=nan_columns)),\n",
    "    ('transformation', transformations)\n",
    "\n",
    "]).set_output(transform='pandas')"
   ]
  },
  {
   "cell_type": "markdown",
   "metadata": {},
   "source": [
    "### Configurations"
   ]
  },
  {
   "cell_type": "code",
   "execution_count": 64,
   "metadata": {},
   "outputs": [],
   "source": [
    "pipeline_config = {\n",
    "\n",
    "    'preprocessing__transformation__numeric_processing__imputation__strategy' : ['mean', 'median', 'most_frequent'],\n",
    "    'preprocessing__transformation__numeric_processing__polynomials__degree' : [1, 2, 3, 4, 5],\n",
    "\n",
    "    'preprocessing__transformation__artist_encoding__imputation__strategy' : ['mean', 'median', 'most_frequent'],\n",
    "    'preprocessing__transformation__album_encoding__imputation__strategy' : ['mean', 'median', 'most_frequent'],\n",
    "\n",
    "}"
   ]
  },
  {
   "cell_type": "markdown",
   "metadata": {},
   "source": [
    "model configs"
   ]
  },
  {
   "cell_type": "code",
   "execution_count": 65,
   "metadata": {},
   "outputs": [],
   "source": [
    "param_grid = [\n",
    "    {\n",
    "        'model' : [LinearRegression()]\n",
    "    },\n",
    "\n",
    "    {\n",
    "        'model' : [Ridge()],\n",
    "        'model__alpha': [0.01, 0.1, 1, 10, 100, 1000]\n",
    "    },\n",
    "\n",
    "    {\n",
    "        'model' : [Lasso()],\n",
    "        'model__alpha': [0.01, 0.1, 1, 10, 100, 1000]\n",
    "    }\n",
    "]"
   ]
  },
  {
   "cell_type": "markdown",
   "metadata": {},
   "source": [
    "adding pipeline config"
   ]
  },
  {
   "cell_type": "code",
   "execution_count": 66,
   "metadata": {},
   "outputs": [],
   "source": [
    "param_grid = [config | pipeline_config for config in param_grid]"
   ]
  },
  {
   "cell_type": "markdown",
   "metadata": {},
   "source": [
    "#### Fitting"
   ]
  },
  {
   "cell_type": "code",
   "execution_count": 67,
   "metadata": {},
   "outputs": [],
   "source": [
    "k_fold = 5\n",
    "\n",
    "model_pipeline = Pipeline(steps=[\n",
    "    ('preprocessing', preprocessing),\n",
    "    ('model', LinearRegression())                   # NOTE: placeholder\n",
    "])"
   ]
  },
  {
   "cell_type": "code",
   "execution_count": 2,
   "metadata": {},
   "outputs": [
    {
     "ename": "NameError",
     "evalue": "name 'GridSearchCV' is not defined",
     "output_type": "error",
     "traceback": [
      "\u001b[1;31m---------------------------------------------------------------------------\u001b[0m",
      "\u001b[1;31mNameError\u001b[0m                                 Traceback (most recent call last)",
      "Cell \u001b[1;32mIn[2], line 1\u001b[0m\n\u001b[1;32m----> 1\u001b[0m gscv \u001b[38;5;241m=\u001b[39m \u001b[43mGridSearchCV\u001b[49m(model_pipeline, param_grid, cv\u001b[38;5;241m=\u001b[39mk_fold, scoring\u001b[38;5;241m=\u001b[39m\u001b[38;5;124m'\u001b[39m\u001b[38;5;124mneg_mean_squared_error\u001b[39m\u001b[38;5;124m'\u001b[39m, n_jobs\u001b[38;5;241m=\u001b[39m\u001b[38;5;241m2\u001b[39m)\n",
      "\u001b[1;31mNameError\u001b[0m: name 'GridSearchCV' is not defined"
     ]
    }
   ],
   "source": [
    "gscv = GridSearchCV(model_pipeline, param_grid, cv=k_fold, scoring='neg_mean_squared_error', n_jobs=2)"
   ]
  },
  {
   "cell_type": "code",
   "execution_count": 1,
   "metadata": {},
   "outputs": [],
   "source": [
    "#gscv.fit(X_train, y_train)"
   ]
  },
  {
   "cell_type": "code",
   "execution_count": null,
   "metadata": {},
   "outputs": [],
   "source": []
  }
 ],
 "metadata": {
  "kernelspec": {
   "display_name": "Python 3",
   "language": "python",
   "name": "python3"
  },
  "language_info": {
   "codemirror_mode": {
    "name": "ipython",
    "version": 3
   },
   "file_extension": ".py",
   "mimetype": "text/x-python",
   "name": "python",
   "nbconvert_exporter": "python",
   "pygments_lexer": "ipython3",
   "version": "3.11.1"
  }
 },
 "nbformat": 4,
 "nbformat_minor": 2
}
